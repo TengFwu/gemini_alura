{
  "nbformat": 4,
  "nbformat_minor": 0,
  "metadata": {
    "colab": {
      "provenance": [],
      "authorship_tag": "ABX9TyO0EA0TheTBYu3aOOJKrJyX",
      "include_colab_link": true
    },
    "kernelspec": {
      "name": "python3",
      "display_name": "Python 3"
    },
    "language_info": {
      "name": "python"
    }
  },
  "cells": [
    {
      "cell_type": "markdown",
      "metadata": {
        "id": "view-in-github",
        "colab_type": "text"
      },
      "source": [
        "<a href=\"https://colab.research.google.com/github/TengFwu/gemini_alura/blob/main/Julius_trip_.ipynb\" target=\"_parent\"><img src=\"https://colab.research.google.com/assets/colab-badge.svg\" alt=\"Open In Colab\"/></a>"
      ]
    },
    {
      "cell_type": "code",
      "source": [
        "from IPython import get_ipython\n",
        "from IPython.display import display"
      ],
      "metadata": {
        "id": "_vGI6St0s8sO"
      },
      "execution_count": null,
      "outputs": []
    },
    {
      "cell_type": "code",
      "execution_count": null,
      "metadata": {
        "id": "dhH-BTS--x-U"
      },
      "outputs": [],
      "source": [
        "# Instala os pacotes necessários\n",
        "%pip -q install google-genai google-adk"
      ]
    },
    {
      "cell_type": "code",
      "source": [
        "# Importações essenciais\n",
        "import os\n",
        "import textwrap\n",
        "import warnings\n",
        "from IPython.display import display, Markdown\n",
        "from datetime import date\n",
        "from google.colab import userdata\n",
        "from google import genai\n",
        "from google.genai import types\n",
        "from google.adk.agents import Agent\n",
        "from google.adk.runners import Runner\n",
        "from google.adk.sessions import InMemorySessionService\n",
        "from google.adk.tools import google_search"
      ],
      "metadata": {
        "id": "foBKbcM8Dn6G"
      },
      "execution_count": null,
      "outputs": []
    },
    {
      "cell_type": "code",
      "source": [
        "# Configuração da API Key do Gemini\n",
        "os.environ[\"GOOGLE_API_KEY\"] = userdata.get('GOOGLE_API_KEY') # coloque a sua chave API\n",
        "\n",
        "\n",
        "warnings.filterwarnings(\"ignore\")"
      ],
      "metadata": {
        "id": "Bo4r_kn5-0wz"
      },
      "execution_count": 38,
      "outputs": []
    },
    {
      "cell_type": "markdown",
      "source": [],
      "metadata": {
        "id": "cWofCrH1tiET"
      }
    },
    {
      "cell_type": "code",
      "source": [
        "# Função auxiliar: executa a conversa com qualquer agente e retorna a resposta final\n",
        "def executar_agente(agent: Agent, mensagem: str) -> str:\n",
        "    session_service = InMemorySessionService()\n",
        "    session = session_service.create_session(app_name=agent.name, user_id=\"user1\", session_id=\"session1\")\n",
        "    runner = Runner(agent=agent, app_name=agent.name, session_service=session_service)\n",
        "    content = types.Content(role=\"user\", parts=[types.Part(text=mensagem)])\n",
        "\n",
        "    resposta_final = \"\"\n",
        "    for evento in runner.run(user_id=\"user1\", session_id=\"session1\", new_message=content):\n",
        "        if evento.is_final_response():\n",
        "            for parte in evento.content.parts:\n",
        "                if parte.text:\n",
        "                    resposta_final += parte.text + \"\\n\"\n",
        "    return resposta_final\n",
        "\n",
        "# Função auxiliar: formata texto como Markdown no Colab\n",
        "def mostrar_markdown(texto):\n",
        "    texto_formatado = texto.replace('•', '  *')  # Corrige bullet points\n",
        "    return Markdown(textwrap.indent(texto_formatado, '> ', predicate=lambda _: True))"
      ],
      "metadata": {
        "id": "0NizH2NgDhyr"
      },
      "execution_count": null,
      "outputs": []
    },
    {
      "cell_type": "code",
      "source": [
        "# Função auxiliar que envia uma mensagem para um agente via Runner e retorna a resposta final\n",
        "def call_agent(agent: Agent, message_text: str) -> str:\n",
        "    # Cria um serviço de sessão em memória\n",
        "    session_service = InMemorySessionService()\n",
        "    # Cria uma nova sessão (você pode personalizar os IDs conforme necessário)\n",
        "    session = session_service.create_session(app_name=agent.name, user_id=\"user1\", session_id=\"session1\")\n",
        "    # Cria um Runner para o agente\n",
        "    runner = Runner(agent=agent, app_name=agent.name, session_service=session_service)\n",
        "    # Cria o conteúdo da mensagem de entrada\n",
        "    content = types.Content(role=\"user\", parts=[types.Part(text=message_text)])\n",
        "\n",
        "    final_response = \"\"\n",
        "    # Itera assincronamente pelos eventos retornados durante a execução do agente\n",
        "    for event in runner.run(user_id=\"user1\", session_id=\"session1\", new_message=content):\n",
        "        if event.is_final_response():\n",
        "          for part in event.content.parts:\n",
        "            if part.text is not None:\n",
        "              final_response += part.text\n",
        "              final_response += \"\\n\"\n",
        "    return final_response"
      ],
      "metadata": {
        "id": "KrEL5O0DDrB6"
      },
      "execution_count": null,
      "outputs": []
    },
    {
      "cell_type": "code",
      "source": [
        "# Função auxiliar para exibir texto formatado em Markdown no Colab\n",
        "def to_markdown(text):\n",
        "  text = text.replace('•', '  *')\n",
        "  return Markdown(textwrap.indent(text, '> ', predicate=lambda _: True))"
      ],
      "metadata": {
        "id": "rBxyYX6jDspb"
      },
      "execution_count": null,
      "outputs": []
    },
    {
      "cell_type": "code",
      "source": [
        "import google.generativeai as genai\n",
        "# Inicializa o modelo Gemini Pro com chat e histórico vazio\n",
        "agente_descoberta_viagem = genai.GenerativeModel('gemini-2.0-flash').start_chat(history=[])\n",
        "\n",
        "# Função para interação com o primeiro agente (descoberta de perfil e sugestão de destinos)\n",
        "def obter_destinos_via_perfil():\n",
        "    print(\"👋 Olá! Vamos planejar sua próxima viagem juntos!\\n\")\n",
        "\n",
        "    # Coleta de informações do usuário\n",
        "    grupo = input(\"👥 Quem está viajando? (Ex: Só eu, com meu cônjuge, com a família, com amigos)\\n\")\n",
        "    experiencia = input(\"🌄 Qual o tipo de experiência que você busca? (Ex: Relaxamento total, aventura, vida noturna agitada, contato com a natureza, etc.)\\n\")\n",
        "    origem = input(\"📍 De onde você está partindo? (Qual a sua cidade/estado de origem?)\\n\")\n",
        "    duracao = input(\"📆 Quantos dias você pretende ficar?\\n\")\n",
        "    preferencias = input(\"📝 Você tem alguma preferência ou restrição específica?\\n\")\n",
        "    valor_proposto = input(\"💰 Quanto você pretende gastar para viajar por pessoa (desconsiderando translado)?\\n\")\n",
        "\n",
        "    # Cria o perfil textual do usuário com base nas respostas\n",
        "    perfil_usuario = (\n",
        "        f\"Quem está viajando: {grupo}\\n\"\n",
        "        f\"Tipo de experiência buscada: {experiencia}\\n\"\n",
        "        f\"Origem da viagem: {origem}\\n\"\n",
        "        f\"Duração da viagem: {duracao} dias\\n\"\n",
        "        f\"Preferências e restrições: {preferencias}\\n\"\n",
        "        f\"Valor Proposto: {valor_proposto}\"\n",
        "    )\n",
        "\n",
        "    print(\"\\n🔍 Procurando destinos ideais com base no seu perfil...\\n\")\n",
        "\n",
        "    # Envia a solicitação ao modelo Gemini com instrução clara para retornar apenas uma lista de destinos\n",
        "    resposta = agente_descoberta_viagem.send_message(\n",
        "        perfil_usuario +\n",
        "        \"\\n\\nCom base nessas informações, sugira de 10 destinos ideais para essa viagem. \" +\n",
        "        \"\\n\\nForneça destinos nacionais e internacionais. \" +\n",
        "        \"Retorne a resposta diretamente como uma lista com bullet points, \" +\n",
        "        \"sem pedir mais informações ao usuário. Não inclua explicações nem introduções. \" +\n",
        "        \"Apenas a lista dos destinos sugeridos.\"\n",
        "    )\n",
        "\n",
        "    # Extrai e retorna o texto da resposta (lista de destinos)\n",
        "    destinos_sugeridos = resposta.text.strip()\n",
        "\n",
        "    print(\"🏝️ Destinos sugeridos:\\n\")\n",
        "    print(destinos_sugeridos)\n",
        "\n",
        "    return destinos_sugeridos"
      ],
      "metadata": {
        "id": "lPFD0WgeEUw5"
      },
      "execution_count": 41,
      "outputs": []
    },
    {
      "cell_type": "code",
      "source": [
        "def agente_custos_destino(lista_destinos: str):\n",
        "    agente = Agent(\n",
        "        name=\"avaliador_custos_destino\",\n",
        "        model=\"gemini-2.0-flash\",\n",
        "        instruction=\"\"\"\n",
        "        Receba uma lista de destinos e estime o gasto médio por pessoa por dia (excluindo transporte principal e hospedagem).\n",
        "        Deve incluir: alimentação, transporte local e atividades básicas.\n",
        "        Use USD como base e converta para a moeda local do usuário.\n",
        "        Também procure qual a melhor época para viajar em cada destino e os pontos turísticos mais famosos.\n",
        "        \"\"\",\n",
        "        description=\"Estima custos médios por dia no destino e melhores perídos e locais para conhecer\",\n",
        "        tools=[google_search]\n",
        "    )\n",
        "    return executar_agente(agente, lista_destinos)\n"
      ],
      "metadata": {
        "id": "EVjKA0OYEPvN"
      },
      "execution_count": 49,
      "outputs": []
    },
    {
      "cell_type": "code",
      "source": [
        "def agente_precos_voos(descricao_viagem: str):\n",
        "    agente = Agent(\n",
        "        name=\"estimador_voos\",\n",
        "        model=\"gemini-2.0-flash\",\n",
        "        instruction=\"\"\"\n",
        "        Receba origem, destino e período da viagem. Estime o custo médio de ida e volta em BRL ou USD.\n",
        "        Procure dados de voos utilizando o google.flight\n",
        "        \"\"\",\n",
        "        description=\"Estima preços de voos e fornece links úteis\",\n",
        "        tools=[google_search]\n",
        "    )\n",
        "    return executar_agente(agente, descricao_viagem)\n"
      ],
      "metadata": {
        "id": "oabRe10tESz0"
      },
      "execution_count": null,
      "outputs": []
    },
    {
      "cell_type": "code",
      "source": [
        "def agente_comparador_tabela(entrada_dados: str):\n",
        "    agente = Agent(\n",
        "        name=\"tabela_comparativa_destinos\",\n",
        "        model=\"gemini-2.0-flash\",\n",
        "        instruction=\"\"\"\n",
        "        Receba os dados de custos dos destinos, voos, melhores períodos de viagem e locais turísticos locais e apresente uma tabela comparativa com todos os destinos fornecidos.\n",
        "        A tabela deve ajudar o usuário a escolher o melhor custo-benefício. Valores não presentes, coloque NA\n",
        "        \"\"\",\n",
        "        description=\"Cria tabela comparativa de destinos\"\n",
        "    )\n",
        "    return executar_agente(agente, entrada_dados)\n",
        "\n"
      ],
      "metadata": {
        "id": "-dJUey7GEXxH"
      },
      "execution_count": 48,
      "outputs": []
    },
    {
      "cell_type": "code",
      "source": [
        "def agente_detalhes_local(local_escolhido: str):\n",
        "    agente = Agent(\n",
        "        name=\"guia_local_cultural\",\n",
        "        model=\"gemini-2.0-flash\",\n",
        "        instruction=\"\"\"\n",
        "        Descreva a cultura do local, pontos turísticos imperdíveis, pratos típicos e links de restaurantes muito bem avaliados.\n",
        "        Formate a resposta em tabela.\n",
        "        Caso a pessoa escolha dois locais, gere uma tabela comparativa e termine com um pequeno texto sumarizando a decisão com os pontos fortes de cada uma\n",
        "        \"\"\",\n",
        "        description=\"Resumo do destino com foco em turismo e gastronomia\",\n",
        "        tools=[google_search]\n",
        "    )\n",
        "    return executar_agente(agente, local_escolhido)\n",
        "\n"
      ],
      "metadata": {
        "id": "a6ZERJlsxRGG"
      },
      "execution_count": 47,
      "outputs": []
    },
    {
      "cell_type": "code",
      "source": [
        "def planejar_viagem_interativa():\n",
        "    print(\"👋 Olá! Vamos planejar sua próxima viagem juntos!\\n\")\n",
        "\n",
        "    # 🔹 Coletar respostas do usuário\n",
        "    quem_vai = input(\"👥 Quem está viajando? (Ex: Só eu, com meu cônjuge, com a família, com amigos)\\n\")\n",
        "    tipo_experiencia = input(\"🌄 Qual o tipo de experiência que você busca? (Ex: Relaxamento total, aventura, vida noturna agitada, contato com a natureza, etc.)\\n\")\n",
        "    origem = input(\"📍 De onde você está partindo? (Qual a sua cidade/estado de origem?)\\n\")\n",
        "    duracao = input(\"📆 Quantos dias você pretende ficar?\\n\")\n",
        "    preferencias = input(\"📝 Você tem alguma preferência ou restrição específica? (Ex: Quero conhecer a China\\n\")\n",
        "    valor_proposto = input(\"💰 Quanto você pretende gastar para viajar por pessoa (desconsiderando translado)?\\n\")\n",
        "\n",
        "    # 🔹 Montar perfil completo\n",
        "    perfil_usuario = f\"\"\"\n",
        "    Perfil da viagem:\n",
        "    - Quem vai: {quem_vai}\n",
        "    - Tipo de experiência: {tipo_experiencia}\n",
        "    - Origem: {origem}\n",
        "    - Duração: {duracao} dias\n",
        "    - Preferências/Restrições: {preferencias}\n",
        "    - Valor Proposto: {valor_proposto}\n",
        "    \"\"\"\n",
        "\n",
        "    # 🔹 Enviar perfil ao primeiro agente\n",
        "\n",
        "    print(\"\\n🔍 Procurando destinos ideais com base no seu perfil...\\n\")\n",
        "    destinos_sugeridos = agente_descoberta_viagem.send_message(\n",
        "        f\"Com base nesse perfil, sugira 5 destinos ideais e justifique cada um:\\n{perfil_usuario}\"\n",
        "    ).text\n",
        "\n",
        "    # 2. Estimar custos diários nos destinos sugeridos\n",
        "    print(\"\\n💰 Estimando os custos médios por pessoa por dia em cada destino...\\n\")\n",
        "    custos_destinos = agente_custos_destino(destinos_sugeridos)\n",
        "\n",
        "    # 3. Estimar preços de voos\n",
        "    print(\"\\n🛫 Estimando preços médios de voos a partir da sua origem...\\n\")\n",
        "    estimativa_voos = agente_precos_voos(destinos_sugeridos)\n",
        "\n",
        "    # 4. Criar tabela comparativa\n",
        "    print(\"\\n📊 Gerando tabela comparativa dos destinos com base nos custos e voos...\\n\")\n",
        "    comparativo_input = f\"{custos_destinos}\\n\\n{estimativa_voos}\"\n",
        "    tabela_comparativa = agente_comparador_tabela(comparativo_input)\n",
        "    display(mostrar_markdown(tabela_comparativa))\n",
        "\n",
        "    # 5. Escolha do destino\n",
        "    destino_final = input(\"🌍 Qual dos destinos você mais gostou? Escolha um ou mais destinos e saiba mais sobre\\n\")\n",
        "    print(f\"\\n📚 Reunindo informações culturais, turísticas e gastronômicas...\\n\")\n",
        "    detalhes_destino = agente_detalhes_local(destino_final)\n",
        "    display(mostrar_markdown(detalhes_destino))\n",
        "\n",
        "    print(\"\\n🎉 Pronto! Agora você tem tudo para começar a planejar sua viagem com segurança e empolgação!\\n\")\n"
      ],
      "metadata": {
        "id": "YirB5bjmEaKi"
      },
      "execution_count": 53,
      "outputs": []
    },
    {
      "cell_type": "code",
      "source": [
        "planejar_viagem_interativa()\n"
      ],
      "metadata": {
        "colab": {
          "base_uri": "https://localhost:8080/"
        },
        "id": "DQU00uWp3MWs",
        "outputId": "d38a462c-6fa6-48a7-b35c-24a26ab377a7"
      },
      "execution_count": null,
      "outputs": [
        {
          "output_type": "stream",
          "name": "stdout",
          "text": [
            "👋 Olá! Vamos planejar sua próxima viagem juntos!\n",
            "\n"
          ]
        }
      ]
    }
  ]
}